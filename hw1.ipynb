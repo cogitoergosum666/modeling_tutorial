{
 "cells": [
  {
   "attachments": {},
   "cell_type": "markdown",
   "metadata": {},
   "source": [
    "# Q1 \n",
    "仅按照等待人数的电梯选择决策函数"
   ]
  },
  {
   "cell_type": "code",
   "execution_count": 16,
   "metadata": {},
   "outputs": [],
   "source": [
    "import csv\n",
    "import numpy as np\n",
    "import checker\n"
   ]
  },
  {
   "cell_type": "code",
   "execution_count": 17,
   "metadata": {},
   "outputs": [],
   "source": [
    "def Str1(waiting):#第一个决策函数\n",
    "    '''\n",
    "    你需要填写你的决策函数\n",
    "    '''\n",
    "    choice = \n",
    "    return choice "
   ]
  },
  {
   "cell_type": "code",
   "execution_count": 18,
   "metadata": {},
   "outputs": [
    {
     "name": "stdout",
     "output_type": "stream",
     "text": [
      "答案正确！\n"
     ]
    }
   ],
   "source": [
    "def q1(data1):\n",
    "    waiting_data = np.array(data1[1:])#去除表头\n",
    "    waiting_data = np.delete(waiting_data,np.array([0,4,5,6]),axis = 1)#去除除三部电梯排队人数外的数据\n",
    "\n",
    "    answer = []\n",
    "    for i in range(len(waiting_data)):\n",
    "        answer.append(Str1(waiting_data[i]))\n",
    "\n",
    "    answer = np.array(answer)\n",
    "    \n",
    "    checker.check_q1(answer)\n",
    "    \n",
    "with open('data1.csv',newline='') as data1:\n",
    "    '''\n",
    "    数据具体含义可以自行导出表头查看，其中包含100种等待电梯时的情况\n",
    "    '''\n",
    "    #请导出表头查看数据属性\n",
    "    reader = csv.reader(data1)\n",
    "\n",
    "    q1(list(reader))"
   ]
  },
  {
   "attachments": {},
   "cell_type": "markdown",
   "metadata": {},
   "source": [
    "# Q2\n",
    "我们加入电梯当前楼层作为新的参数"
   ]
  },
  {
   "cell_type": "code",
   "execution_count": 19,
   "metadata": {},
   "outputs": [],
   "source": [
    "def Str2(data):\n",
    "    def function(input):#\n",
    "        '''\n",
    "        该函数应该计算出综合了当前排队人数与电梯当前楼层后的预期时间\n",
    "        input应该是一个元组，描述该电梯的当前等待人数与当前楼层\n",
    "        ouput应该是一个int类型数，该数描述了该电梯的预期等待时间\n",
    "        '''\n",
    "        stopped_floor = 8 #上行过程中停靠的楼层数，这里采用8\n",
    "        expect_time_cost = #请填写你的计算函数\n",
    "        return expect_time_cost\n",
    "    \n",
    "    answer_time = []#answer_time是一个列表，其中应该包含你的计算函数计算出来的每一种情况下三台电梯等待时间构成的元组\n",
    "    input_tuple = []\n",
    "    for i in range(len(data)):\n",
    "        \n",
    "        input_tuple.append([(data[i][1],data[i][4]),\n",
    "                            (data[i][2],data[i][5]),\n",
    "                            (data[i][3],data[i][6])])\n",
    "\n",
    "        answer_time.append((function(input_tuple[i][0]),function(input_tuple[i][1]),function(input_tuple[i][2])))\n",
    "\n",
    " \n",
    "    answer_lift = #请填写你的决策函数，answer应该是一个一维np数组，其中每一个元素是每一种情况下我们应该选择的电梯编号（0,1或2）\n",
    "    \n",
    "    return answer_lift\n",
    "    \n",
    "\n"
   ]
  },
  {
   "cell_type": "code",
   "execution_count": 20,
   "metadata": {},
   "outputs": [
    {
     "name": "stdout",
     "output_type": "stream",
     "text": [
      "答案正确！\n"
     ]
    }
   ],
   "source": [
    "def q2(data1):\n",
    "    data  = np.array(data1[1:])#去除表头\n",
    "    return Str2(data)\n",
    "with open('data1.csv',newline='') as data1:\n",
    "    reader = csv.reader(data1)\n",
    "\n",
    "    answer = q2(list(reader))\n",
    "    checker.check_q2(answer)\n"
   ]
  },
  {
   "attachments": {},
   "cell_type": "markdown",
   "metadata": {},
   "source": [
    "# 声明\n",
    "checker函数只会机械地检查numpy数组之间的一致性，所以请用np数组作答。\n",
    "\n",
    "时间有限，难免有错，请多包涵，最重要的是领会思想与获得hands on 代码的感觉。debug或者有意见或建议欢迎致信我的邮箱20281274@bjtu.edu.cn\n",
    "\n",
    "杜海玮 2023年3月23日\n"
   ]
  }
 ],
 "metadata": {
  "kernelspec": {
   "display_name": "base",
   "language": "python",
   "name": "python3"
  },
  "language_info": {
   "codemirror_mode": {
    "name": "ipython",
    "version": 3
   },
   "file_extension": ".py",
   "mimetype": "text/x-python",
   "name": "python",
   "nbconvert_exporter": "python",
   "pygments_lexer": "ipython3",
   "version": "3.7.0"
  },
  "orig_nbformat": 4
 },
 "nbformat": 4,
 "nbformat_minor": 2
}
